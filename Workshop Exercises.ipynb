{
 "cells": [
  {
   "cell_type": "code",
   "execution_count": 19,
   "metadata": {},
   "outputs": [],
   "source": [
    "# https://edabit.com/challenge/SNM5EZ3FePECt2HQn?fbclid=IwAR33NUk_29lX3iS8F8tTnFmsXphJM3NuQv9HLL2ZOYy_D23HNvzOETwdfHA\n",
    "# Profitable Gamble\n",
    "def profitable_gamble(prob, prize, pay):\n",
    "    if(prob * prize > pay):\n",
    "        return True\n",
    "    else:\n",
    "        return False\n",
    "    \n",
    "    #if(prob * prize > pay):\n",
    "    #    return True\n",
    "    #return False\n",
    "    \n",
    "print(profitable_gamble(0.2, 50, 9))\n",
    "print(profitable_gamble(0.9, 1, 2))\n",
    "print(profitable_gamble(0.9, 3, 2))"
   ]
  },
  {
   "cell_type": "code",
   "execution_count": 23,
   "metadata": {},
   "outputs": [
    {
     "name": "stdout",
     "output_type": "stream",
     "text": [
      "2300\n",
      "330\n",
      "9600\n"
     ]
    }
   ],
   "source": [
    "# https://edabit.com/challenge/v5gc8FQkDEepkqpfp?fbclid=IwAR1-ev-IH8xaJqEKnhaIEsxOjd-CVpevPvMIW_3kYRjm4fYa-Swyq1SEFtY\n",
    "# Power Calculator\n",
    "\n",
    "def circuit_power(voltage, current):\n",
    "    return voltage*current\n",
    "#variable is not needed!\n",
    "\n",
    "#def circuit_power(voltage, current):\n",
    "#    power = voltage*current\n",
    "#    return power \n",
    "\n",
    "print(circuit_power(230, 10))\n",
    "print(circuit_power(110, 3)) \n",
    "print(circuit_power(480, 20))"
   ]
  },
  {
   "cell_type": "code",
   "execution_count": 29,
   "metadata": {},
   "outputs": [
    {
     "name": "stdout",
     "output_type": "stream",
     "text": [
      "13\n",
      "10\n",
      "0\n"
     ]
    }
   ],
   "source": [
    "#https://edabit.com/challenge/hmvH3d8E2pKhCjsu3?fbclid=IwAR1wXwfHjli5qq58QdoXzsGjYkoWgSIs4Iz6h8qswl0CIqNL3VuUtyr7B_0\n",
    "#Make My Way Home\n",
    "#distance_home([2, 4, 2, 5]) ➞ 13\n",
    "\n",
    "def distance_home(distances):\n",
    "    return abs(sum(distances))\n",
    "\n",
    "#def distance_home(distances):\n",
    "#    total = sum(distances)\n",
    "#    return abs(total)\n",
    "    \n",
    "print(distance_home([2, 4, 2, 5]))\n",
    "print(distance_home([-1, -4, -3, -2]))\n",
    "print(distance_home([3, 4, -5, -2]))"
   ]
  },
  {
   "cell_type": "code",
   "execution_count": 30,
   "metadata": {},
   "outputs": [
    {
     "name": "stdout",
     "output_type": "stream",
     "text": [
      "False\n",
      "True\n",
      "False\n"
     ]
    }
   ],
   "source": [
    "#https://edabit.com/challenge/iipAZ7sK8C5sRF8K6?fbclid=IwAR33NUk_29lX3iS8F8tTnFmsXphJM3NuQv9HLL2ZOYy_D23HNvzOETwdfHA\n",
    "#Drinks Allowed?\n",
    "\n",
    "def should_serve_drinks(age, onBreak):\n",
    "    if(age >= 18 and not onBreak):\n",
    "        return True\n",
    "    return False\n",
    "\n",
    "print(should_serve_drinks(17, True))\n",
    "print(should_serve_drinks(19, False))\n",
    "print(should_serve_drinks(30, True))"
   ]
  },
  {
   "cell_type": "code",
   "execution_count": 38,
   "metadata": {},
   "outputs": [
    {
     "data": {
      "text/plain": [
       "'Helo Wrd'"
      ]
     },
     "execution_count": 38,
     "metadata": {},
     "output_type": "execute_result"
    }
   ],
   "source": [
    "# Remove duplicate letters in a string\n",
    "def remove_duplicate(string):\n",
    "    new_string = ''\n",
    "    for letter in string:\n",
    "        if letter not in new_string:\n",
    "            new_string += letter\n",
    "    return new_string\n",
    "\n",
    "remove_duplicate('Heeelllo World')"
   ]
  },
  {
   "cell_type": "code",
   "execution_count": null,
   "metadata": {},
   "outputs": [],
   "source": []
  }
 ],
 "metadata": {
  "kernelspec": {
   "display_name": "Python 3",
   "language": "python",
   "name": "python3"
  },
  "language_info": {
   "codemirror_mode": {
    "name": "ipython",
    "version": 3
   },
   "file_extension": ".py",
   "mimetype": "text/x-python",
   "name": "python",
   "nbconvert_exporter": "python",
   "pygments_lexer": "ipython3",
   "version": "3.8.5"
  }
 },
 "nbformat": 4,
 "nbformat_minor": 4
}
